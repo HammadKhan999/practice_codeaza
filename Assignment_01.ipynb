{
 "cells": [
  {
   "attachments": {},
   "cell_type": "markdown",
   "metadata": {},
   "source": [
    "**CODEAZA PYTHON ASSIGNMENT 01**\n",
    "\n",
    "***Ojbectives***\n",
    "fundamentals of Python and practice them\n",
    "Python Syntax, Comments, Variable Names\n",
    "\n",
    "Python Data Types\n",
    "\n",
    "Python Lists, Tuples, Sets, Dictionaries\n",
    "\n",
    "Python Conditions, Loops\n",
    "\n",
    "Python Functions, Lambda \n",
    "\n",
    "Python Classes/Objects Python Inheritance Python Iterators Python \n",
    "\n",
    "Python Modules\n",
    "\n",
    "Python Try...Except\n",
    "\n",
    "Python User Input and String Formatting"
   ]
  },
  {
   "attachments": {},
   "cell_type": "markdown",
   "metadata": {},
   "source": [
    "*Python Data types*"
   ]
  },
  {
   "attachments": {},
   "cell_type": "markdown",
   "metadata": {},
   "source": [
    "                                                                                             **Python Data Types**"
   ]
  },
  {
   "attachments": {},
   "cell_type": "markdown",
   "metadata": {},
   "source": [
    "Python has several built-in data types that you can use to store and manipulate different kinds of data. Here are some commonly used Python data types with example code:\n",
    "\n"
   ]
  },
  {
   "attachments": {},
   "cell_type": "markdown",
   "metadata": {},
   "source": [
    "**# Numeric Types:**"
   ]
  },
  {
   "cell_type": "code",
   "execution_count": 1,
   "metadata": {},
   "outputs": [
    {
     "name": "stdout",
     "output_type": "stream",
     "text": [
      "<class 'int'>\n",
      "<class 'float'>\n"
     ]
    }
   ],
   "source": [
    "\n",
    "# Integer\n",
    "# Integer (int): Represents whole numbers.\n",
    "\n",
    "x = 5\n",
    "print(type(x)) \n",
    "\n",
    "# Float \n",
    "# Float (float): Represents decimal numbers.\n",
    "\n",
    "y = 2.55\n",
    "print(type(y)) \n"
   ]
  },
  {
   "attachments": {},
   "cell_type": "markdown",
   "metadata": {},
   "source": [
    "**#Boolean Type:**"
   ]
  },
  {
   "cell_type": "code",
   "execution_count": 2,
   "metadata": {},
   "outputs": [
    {
     "name": "stdout",
     "output_type": "stream",
     "text": [
      "<class 'bool'>\n"
     ]
    }
   ],
   "source": [
    "\n",
    "# Boolean\n",
    "# Boolean (bool): Represents either True or False.\n",
    "\n",
    "\n",
    "I = True\n",
    "print(type(I))  \n"
   ]
  },
  {
   "attachments": {},
   "cell_type": "markdown",
   "metadata": {},
   "source": [
    "**#Sequence Types:**"
   ]
  },
  {
   "cell_type": "code",
   "execution_count": 3,
   "metadata": {},
   "outputs": [
    {
     "name": "stdout",
     "output_type": "stream",
     "text": [
      "<class 'str'>\n",
      "<class 'list'>\n",
      "<class 'tuple'>\n",
      "<class 'dict'>\n"
     ]
    }
   ],
   "source": [
    "# String\n",
    "# String (str): Represents a sequence of characters enclosed in quotes.\n",
    "\n",
    "Name = \"John Doe\"\n",
    "print(type(Name))  \n",
    "\n",
    "# List\n",
    "# List (list): Represents an ordered collection of elements \n",
    "\n",
    "list = [1, 2, 3, 4, 5]\n",
    "print(type(list))  \n",
    "\n",
    "\n",
    "# Tuple\n",
    "# Tuple (tuple): Represents an ordered collection of elements enclosed in parentheses.\n",
    "\n",
    "tuple = (10, 20)\n",
    "print(type(tuple))  \n",
    "\n",
    "# Dictionary \n",
    "# Dictionary (dict): Represents a collection of key-value pairs enclosed in curly braces.\n",
    "\n",
    "person = {\"name\": \"John\", \"age\": 30, \"city\": \"New York\"}\n",
    "print(type(person))  \n",
    "\n",
    "\n"
   ]
  },
  {
   "attachments": {},
   "cell_type": "markdown",
   "metadata": {},
   "source": [
    "**#Set Types**"
   ]
  },
  {
   "cell_type": "code",
   "execution_count": 4,
   "metadata": {},
   "outputs": [
    {
     "name": "stdout",
     "output_type": "stream",
     "text": [
      "<class 'set'>\n",
      "<class 'frozenset'>\n"
     ]
    }
   ],
   "source": [
    "\n",
    "\n",
    "# Set (set)\n",
    "# Set (set): Represents an unordered collection of unique elements enclosed in curly braces.\n",
    "\n",
    "\n",
    "fruits = {\"apple\", \"banana\", \"orange\"}\n",
    "print(type(fruits))  \n",
    "\n",
    "\n",
    "# Frozen Set (frozenset):\n",
    "# Frozen Set (frozenset): Represents an immutable version of a set.\n",
    "\n",
    "vowels = frozenset({'a', 'e', 'i', 'o', 'u'})\n",
    "print(type(vowels))  "
   ]
  },
  {
   "attachments": {},
   "cell_type": "markdown",
   "metadata": {},
   "source": [
    "                                                                             **Python Lists, Tuples, Sets, Dictionaries**"
   ]
  },
  {
   "attachments": {},
   "cell_type": "markdown",
   "metadata": {},
   "source": [
    "**Python Lists, Tuples, Sets, Dictionaries**"
   ]
  },
  {
   "cell_type": "code",
   "execution_count": 5,
   "metadata": {},
   "outputs": [
    {
     "name": "stdout",
     "output_type": "stream",
     "text": [
      "<class 'list'>\n",
      "<class 'tuple'>\n",
      "<class 'set'>\n",
      "<class 'frozenset'>\n",
      "<class 'dict'>\n"
     ]
    }
   ],
   "source": [
    "# List\n",
    "# List (list): Represents an ordered collection of elements \n",
    "\n",
    "list = [1, 2, 3, 4, 5]\n",
    "print(type(list))  \n",
    "\n",
    "\n",
    "# Tuple\n",
    "# Tuple (tuple): Represents an ordered collection of elements enclosed in parentheses.\n",
    "\n",
    "tuple = (10, 20)\n",
    "print(type(tuple))  \n",
    "\n",
    "# Set (set)\n",
    "# Set (set): Represents an unordered collection of unique elements enclosed in curly braces.\n",
    "\n",
    "\n",
    "fruits = {\"apple\", \"banana\", \"orange\"}\n",
    "print(type(fruits))  \n",
    "\n",
    "\n",
    "# Frozen Set (frozenset):\n",
    "# Frozen Set (frozenset): Represents an immutable version of a set.\n",
    "\n",
    "vowels = frozenset({'a', 'e', 'i', 'o', 'u'})\n",
    "print(type(vowels))  \n",
    "\n",
    "# Dictionary \n",
    "# Dictionary (dict): Represents a collection of key-value pairs enclosed in curly braces.\n",
    "\n",
    "person = {\"name\": \"John\", \"age\": 30, \"city\": \"New York\"}\n",
    "print(type(person))  "
   ]
  },
  {
   "attachments": {},
   "cell_type": "markdown",
   "metadata": {},
   "source": [
    "                                                                                         **Condition Loops**"
   ]
  },
  {
   "attachments": {},
   "cell_type": "markdown",
   "metadata": {},
   "source": [
    "**Condition Loops**"
   ]
  },
  {
   "attachments": {},
   "cell_type": "markdown",
   "metadata": {},
   "source": [
    "**If-else condition**"
   ]
  },
  {
   "cell_type": "code",
   "execution_count": 6,
   "metadata": {},
   "outputs": [
    {
     "name": "stdout",
     "output_type": "stream",
     "text": [
      "x is positive\n",
      "You are an adult\n",
      "B\n"
     ]
    }
   ],
   "source": [
    "\n",
    "\n",
    "# If statement: \n",
    "# Executes a block of code if a condition is true.\n",
    "\n",
    "x = 10\n",
    "if x > 0:\n",
    "    print(\"x is positive\")\n",
    "\n",
    "\n",
    "# If-else statement: \n",
    "# Executes different blocks of code based on a condition.\n",
    "\n",
    "age = 20\n",
    "if age >= 18:\n",
    "    print(\"You are an adult\")\n",
    "else:\n",
    "    print(\"You are a minor\")\n",
    "\n",
    "\n",
    "# If-elif-else statement: \n",
    "# Allows multiple conditions to be checked.\n",
    "\n",
    "score = 85\n",
    "if score >= 90:\n",
    "    print(\"A\")\n",
    "elif score >= 80:\n",
    "    print(\"B\")\n",
    "elif score >= 70:\n",
    "    print(\"C\")\n",
    "else:\n",
    "    print(\"Fail\")\n",
    "\n",
    "\n"
   ]
  },
  {
   "attachments": {},
   "cell_type": "markdown",
   "metadata": {},
   "source": [
    "**Loops**"
   ]
  },
  {
   "cell_type": "code",
   "execution_count": 7,
   "metadata": {},
   "outputs": [
    {
     "name": "stdout",
     "output_type": "stream",
     "text": [
      "1\n",
      "2\n",
      "3\n",
      "4\n",
      "5\n",
      "0\n",
      "1\n",
      "2\n",
      "3\n",
      "4\n",
      "1\n",
      "2\n",
      "1\n",
      "2\n",
      "4\n",
      "5\n"
     ]
    }
   ],
   "source": [
    "\n",
    "\n",
    "# For loop: \n",
    "# Iterates over a sequence (e.g., list, string) or a range of numbers.\n",
    "\n",
    "\n",
    "\n",
    "numbers = [1, 2, 3, 4, 5]\n",
    "for num in numbers:\n",
    "    print( num)\n",
    "\n",
    "\n",
    "# While loop: \n",
    "# Executes a block of code as long as a condition is true.\n",
    "\n",
    "\n",
    "\n",
    "count = 0\n",
    "while count < 5:\n",
    "    print(count)\n",
    "    count += 1\n",
    "\n",
    "\n",
    "# Break statement: \n",
    "# Terminates a loop prematurely.\n",
    "\n",
    "\n",
    "numbers = [1, 2, 3, 4, 5]\n",
    "for num in numbers:\n",
    "    if num == 3:\n",
    "        break\n",
    "    print(num)\n",
    "\n",
    "\n",
    "# Continue statement: \n",
    "# Skips the rest of the loop and continues to the next iteration.\n",
    "\n",
    "\n",
    "numbers = [1, 2, 3, 4, 5]\n",
    "for num in numbers:\n",
    "    if num == 3:\n",
    "        continue\n",
    "    print(num)"
   ]
  },
  {
   "attachments": {},
   "cell_type": "markdown",
   "metadata": {},
   "source": [
    "                                                                                                **Functions**"
   ]
  },
  {
   "attachments": {},
   "cell_type": "markdown",
   "metadata": {},
   "source": [
    "**#Function**"
   ]
  },
  {
   "attachments": {},
   "cell_type": "markdown",
   "metadata": {},
   "source": [
    "Functions:\n",
    " A function is a block of reusable code that performs a specific task. \n",
    " Functions in Python are defined using the def keyword, followed by the function name, parentheses for optional parameters, and a colon. \n",
    " The function body is indented and contains the code to be executed."
   ]
  },
  {
   "cell_type": "code",
   "execution_count": 8,
   "metadata": {},
   "outputs": [
    {
     "name": "stdout",
     "output_type": "stream",
     "text": [
      "7\n",
      "Hello, Alice\n",
      "Hi there, Bob\n"
     ]
    }
   ],
   "source": [
    "# Functions:\n",
    "# Example of a function that adds two numbers and returns the result:\n",
    "\n",
    "\n",
    "def add_numbers(a, b):\n",
    "    return a + b\n",
    "\n",
    "result = add_numbers(3, 4)\n",
    "print(result) \n",
    "\n",
    "\n",
    "# Functions can have optional parameters with default values, allowing for more flexible usage.\n",
    "# Example of a function with an optional parameter:\n",
    "\n",
    "\n",
    "def greet(name, greeting=\"Hello\"):\n",
    "    print(greeting + \", \" + name)\n",
    "\n",
    "greet(\"Alice\")            \n",
    "greet(\"Bob\", \"Hi there\") \n",
    "\n",
    "\n",
    "\n"
   ]
  },
  {
   "attachments": {},
   "cell_type": "markdown",
   "metadata": {},
   "source": [
    "                                                                                               **Lambda Expressions**"
   ]
  },
  {
   "attachments": {},
   "cell_type": "markdown",
   "metadata": {},
   "source": [
    "Lambda Expressions (Anonymous Functions):"
   ]
  },
  {
   "attachments": {},
   "cell_type": "markdown",
   "metadata": {},
   "source": [
    "\n",
    "Lambda expressions are small, anonymous functions without a name. They are defined using the lambda keyword and can take any number of arguments but can only have a single expression in their body.\n",
    "\n",
    "Lambda expressions are often used when a small, one-line function is required, such as in functional programming or as arguments to higher-order functions.\n",
    "\n"
   ]
  },
  {
   "cell_type": "code",
   "execution_count": 9,
   "metadata": {},
   "outputs": [
    {
     "name": "stdout",
     "output_type": "stream",
     "text": [
      "25\n"
     ]
    }
   ],
   "source": [
    "# Example of a lambda expression that squares a number:\n",
    "\n",
    "\n",
    "square = lambda x: x ** 2\n",
    "result = square(5)\n",
    "print(result) "
   ]
  },
  {
   "attachments": {},
   "cell_type": "markdown",
   "metadata": {},
   "source": [
    "                                                                          **Python Classes/Objects Python Inheritance Python Iterators Python**"
   ]
  },
  {
   "attachments": {},
   "cell_type": "markdown",
   "metadata": {},
   "source": [
    "**Python Classes/Object**"
   ]
  },
  {
   "attachments": {},
   "cell_type": "markdown",
   "metadata": {},
   "source": [
    "Classes/Objects:\n",
    "Classes are a fundamental part of object-oriented programming (OOP) in Python. They are used to define objects that encapsulate data (attributes) and behavior (methods)."
   ]
  },
  {
   "cell_type": "code",
   "execution_count": 10,
   "metadata": {},
   "outputs": [
    {
     "name": "stdout",
     "output_type": "stream",
     "text": [
      "Hello, my name is Hammad Khan and I am 22 years old.\n"
     ]
    }
   ],
   "source": [
    "class Person:\n",
    "    def __init__(self, name, age):\n",
    "        self.name = name\n",
    "        self.age = age\n",
    "\n",
    "    def greet(self):\n",
    "        print(f\"Hello, my name is {self.name} and I am {self.age} years old.\")\n",
    "\n",
    "# Creating an object of the Person class\n",
    "person = Person(\"Hammad Khan\", 22)\n",
    "person.greet()  "
   ]
  },
  {
   "attachments": {},
   "cell_type": "markdown",
   "metadata": {},
   "source": [
    "**Python Inheritance**"
   ]
  },
  {
   "attachments": {},
   "cell_type": "markdown",
   "metadata": {},
   "source": [
    "\n",
    "Inheritance is a feature of OOP that allows a class to inherit properties and methods from another class. The class being inherited from is called the superclass or base class, and the class inheriting from it is called the subclass or derived class."
   ]
  },
  {
   "cell_type": "code",
   "execution_count": 11,
   "metadata": {},
   "outputs": [
    {
     "name": "stdout",
     "output_type": "stream",
     "text": [
      "Hello, my name is Hammad Khan and I am 22 years old.\n",
      "My grade is A.\n"
     ]
    }
   ],
   "source": [
    "class Student(Person):\n",
    "    def __init__(self, name, age, grade):\n",
    "        super().__init__(name, age)\n",
    "        self.grade = grade\n",
    "\n",
    "    def display_grade(self):\n",
    "        print(f\"My grade is {self.grade}.\")\n",
    "\n",
    "# Creating an object of the Student class\n",
    "student = Student(\"Hammad Khan\", 22, \"A\")\n",
    "student.greet()        \n",
    "student.display_grade()  "
   ]
  },
  {
   "attachments": {},
   "cell_type": "markdown",
   "metadata": {},
   "source": [
    "**Python Iterators**"
   ]
  },
  {
   "attachments": {},
   "cell_type": "markdown",
   "metadata": {},
   "source": [
    "Iterators are objects that allow looping over a collection or sequence of elements. They use the iter() and next() methods to iterate over the elements."
   ]
  },
  {
   "cell_type": "code",
   "execution_count": 12,
   "metadata": {},
   "outputs": [
    {
     "name": "stdout",
     "output_type": "stream",
     "text": [
      "1\n",
      "2\n",
      "3\n"
     ]
    }
   ],
   "source": [
    "numbers = [1, 2, 3, 4, 5]\n",
    "iterator = iter(numbers)\n",
    "\n",
    "print(next(iterator))  \n",
    "print(next(iterator))  \n",
    "print(next(iterator))  "
   ]
  },
  {
   "attachments": {},
   "cell_type": "markdown",
   "metadata": {},
   "source": [
    "                                                                                        **Python Modules**"
   ]
  },
  {
   "attachments": {},
   "cell_type": "markdown",
   "metadata": {},
   "source": [
    "**Modules**"
   ]
  },
  {
   "attachments": {},
   "cell_type": "markdown",
   "metadata": {},
   "source": [
    "Python modules are files containing Python code that define functions, classes, and variables that can be imported and used in other Python programs. Modules allow for code organization, reusability, and modularity"
   ]
  },
  {
   "cell_type": "code",
   "execution_count": 13,
   "metadata": {},
   "outputs": [],
   "source": [
    "# Creating a Module:\n",
    "# To create a module, we can define functions, classes, or variables in a Python file with a .py extension. \n",
    "# Let's create a module named math_operations.py with some basic math operations:\n",
    "\n",
    "# math_operations.py\n",
    "def add(a, b):\n",
    "    return a + b\n",
    "\n",
    "def subtract(a, b):\n",
    "    return a - b\n",
    "\n",
    "def multiply(a, b):\n",
    "    return a * b\n",
    "\n",
    "\n",
    "# Using a Module:\n",
    "# Once the module is created, ywe can import and use it in other Python programs.\n",
    "# Here's an example of using the math_operations module in a separate program:\n",
    "\n"
   ]
  },
  {
   "cell_type": "code",
   "execution_count": 15,
   "metadata": {},
   "outputs": [
    {
     "name": "stdout",
     "output_type": "stream",
     "text": [
      "Addition: 8\n",
      "Subtraction: 6\n",
      "Multiplication: 12\n"
     ]
    }
   ],
   "source": [
    "# main.py\n",
    "import math_operations\n",
    "\n",
    "result_add = math_operations.add(5, 3)\n",
    "print(\"Addition:\", result_add) \n",
    "\n",
    "result_subtract = math_operations.subtract(10, 4)\n",
    "print(\"Subtraction:\", result_subtract) \n",
    "\n",
    "result_multiply = math_operations.multiply(2, 6)\n",
    "print(\"Multiplication:\", result_multiply)"
   ]
  },
  {
   "attachments": {},
   "cell_type": "markdown",
   "metadata": {},
   "source": [
    "                                                                                       **Python Try...Except**"
   ]
  },
  {
   "attachments": {},
   "cell_type": "markdown",
   "metadata": {},
   "source": [
    "The try...except block in Python is used for handling exceptions and preventing the program from crashing when an error occurs. Here's an example of how to use the try...except statement:"
   ]
  },
  {
   "cell_type": "code",
   "execution_count": 16,
   "metadata": {},
   "outputs": [
    {
     "name": "stdout",
     "output_type": "stream",
     "text": [
      "Invalid input. Please enter a valid number.\n"
     ]
    }
   ],
   "source": [
    "try:\n",
    "    # Code that might raise an exception\n",
    "    x = int(input(\"Enter a number: \"))\n",
    "    result = 10 / x\n",
    "    print(\"Result:\", result)\n",
    "except ValueError:\n",
    "    print(\"Invalid input. Please enter a valid number.\")\n",
    "except ZeroDivisionError:\n",
    "    print(\"Cannot divide by zero.\")\n",
    "except Exception as e:\n",
    "    print(\"An error occurred:\", str(e))"
   ]
  },
  {
   "attachments": {},
   "cell_type": "markdown",
   "metadata": {},
   "source": [
    "In the above example, we have a try block that contains the code that may potentially raise an exception. \n",
    "If an exception occurs, it will be caught and handled by the appropriate except block based on the exception type.\n",
    "If the user enters an invalid value that cannot be converted to an integer, a ValueError will be raised and the corresponding except ValueError block will be executed, printing an error message.\n",
    "If the user enters zero as the input, a ZeroDivisionError will be raised when trying to divide by zero. The except ZeroDivisionError block will be executed to handle the exception and print an error message.\n",
    "If any other unexpected exception occurs, the except Exception as e block will catch it, and the error message will be printed."
   ]
  },
  {
   "attachments": {},
   "cell_type": "markdown",
   "metadata": {},
   "source": [
    "                                                                     **Python User Input and String Formatting**"
   ]
  },
  {
   "attachments": {},
   "cell_type": "markdown",
   "metadata": {},
   "source": [
    "**User Input**"
   ]
  },
  {
   "cell_type": "code",
   "execution_count": 17,
   "metadata": {},
   "outputs": [],
   "source": [
    "# User Input\n",
    "name = input(\"Enter your name: \")\n",
    "age = int(input(\"Enter your age: \"))\n",
    "\n"
   ]
  },
  {
   "attachments": {},
   "cell_type": "markdown",
   "metadata": {},
   "source": [
    "In the code above, we use the input() function to prompt the user for input. The user is asked to enter their name, which is stored in the name variable. The age variable is assigned the user's age after converting the input to an integer using int()."
   ]
  },
  {
   "attachments": {},
   "cell_type": "markdown",
   "metadata": {},
   "source": [
    "**String Formatting**"
   ]
  },
  {
   "attachments": {},
   "cell_type": "markdown",
   "metadata": {},
   "source": [
    " we use string formatting to create a message that incorporates the user's name and age. The curly braces {} serve as placeholders for the values that will be inserted. The format() method is called on the string, and the name and age variables are passed as arguments. The format() method replaces the placeholders with the corresponding values."
   ]
  },
  {
   "cell_type": "code",
   "execution_count": 18,
   "metadata": {},
   "outputs": [
    {
     "name": "stdout",
     "output_type": "stream",
     "text": [
      "I, Hammad Khan.  22 years old.\n"
     ]
    }
   ],
   "source": [
    "# String Formatting\n",
    "message = \"I, {}.  {} years old.\".format(name, age)\n",
    "print(message)"
   ]
  },
  {
   "attachments": {},
   "cell_type": "markdown",
   "metadata": {},
   "source": [
    "String formatting allows you to create dynamic messages by incorporating variables or other values into your strings. The {} placeholders can be customized further, such as specifying formatting options or using index-based placeholders for reusing values multiple times in the string."
   ]
  }
 ],
 "metadata": {
  "kernelspec": {
   "display_name": "Python 3",
   "language": "python",
   "name": "python3"
  },
  "language_info": {
   "codemirror_mode": {
    "name": "ipython",
    "version": 3
   },
   "file_extension": ".py",
   "mimetype": "text/x-python",
   "name": "python",
   "nbconvert_exporter": "python",
   "pygments_lexer": "ipython3",
   "version": "3.10.4 (tags/v3.10.4:9d38120, Mar 23 2022, 23:13:41) [MSC v.1929 64 bit (AMD64)]"
  },
  "orig_nbformat": 4,
  "vscode": {
   "interpreter": {
    "hash": "4b6b8e34a64791b77cdbdca7c3f222efcc71ce09e6185e1d30b347e2b8482755"
   }
  }
 },
 "nbformat": 4,
 "nbformat_minor": 2
}
