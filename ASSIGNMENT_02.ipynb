{
 "cells": [
  {
   "attachments": {},
   "cell_type": "markdown",
   "metadata": {},
   "source": [
    "**CODEAZA PYTHON ASSIGNMENT 01**\n",
    "\n",
    "***Objectives***\n",
    "Advance Concepts of Python and practice them\n",
    "\n",
    "1.  Regex\n",
    "\n",
    "2.  Lambdas Functions\n",
    "\n",
    "3.  List Comprehensions\n",
    "\n",
    "4.  Decorators\n",
    "\n",
    "5.   Generator Expressions\n",
    "\n",
    "6.   Paradigms\n",
    "\n",
    "7.  Iterators\n",
    "\n",
    "8.  Yield Keyword"
   ]
  },
  {
   "attachments": {},
   "cell_type": "markdown",
   "metadata": {},
   "source": [
    "**REGEX in Python**\n",
    "\n",
    "Regular expressions, often referred to as regex, are powerful tools used in programming to search for and manipulate patterns of text in any string/dataset. In Python, we can work with regular expressions using the re module."
   ]
  },
  {
   "cell_type": "code",
   "execution_count": 23,
   "metadata": {},
   "outputs": [
    {
     "name": "stdout",
     "output_type": "stream",
     "text": [
      "Match found!\n",
      "No match found.\n"
     ]
    }
   ],
   "source": [
    "import re\n",
    "\n",
    "# Example text\n",
    "text = \"My name is Hammad. I am python developer intern at Codeaza Technologies.\"\n",
    "\n",
    "# Define a regex pattern\n",
    "pattern = r\"python developer\"\n",
    "\n",
    "pattern2 = r\"What?\"\n",
    "\n",
    "# Use the search() function to find a match\n",
    "match = re.search(pattern, text)\n",
    "\n",
    "if match:\n",
    "    print(\"Match found!\")\n",
    "else:\n",
    "    print(\"No match found.\")\n",
    "match2 = re.search(pattern2, text)\n",
    "\n",
    "if match2:\n",
    "    print(\"Match found!\")\n",
    "else:\n",
    "    print(\"No match found.\")\n"
   ]
  },
  {
   "attachments": {},
   "cell_type": "markdown",
   "metadata": {},
   "source": [
    "**LAMBDAS FUNCTIONS in Python**\n",
    "\n",
    "In Python, lambda functions are a way to create small, anonymous functions without explicitly defining a function using the def keyword. Lambda functions are often used when you need a simple, one-line function that you don't plan to reuse elsewhere."
   ]
  },
  {
   "cell_type": "code",
   "execution_count": 24,
   "metadata": {},
   "outputs": [
    {
     "name": "stdout",
     "output_type": "stream",
     "text": [
      "Regular average function: 7.0\n",
      "Lambdas average function: 4.0\n"
     ]
    }
   ],
   "source": [
    "# Regular function\n",
    "def average(x, y,z):\n",
    "    return (x + y + z)/3\n",
    "\n",
    "# Lambda function to calculate the average of three numbers\n",
    "average_lambdas = lambda a, b, c: (a + b + c) / 3\n",
    "\n",
    "# Using the lambda function\n",
    "result = average(4, 7, 10)\n",
    "result_lambdas = average_lambdas(4,5,3)\n",
    "print(\"Regular average function:\",result)\n",
    "print(\"Lambdas average function:\",result_lambdas)\n",
    "\n"
   ]
  },
  {
   "attachments": {},
   "cell_type": "markdown",
   "metadata": {},
   "source": [
    "**LIST COMPREHENSION in Python**\n",
    "\n",
    "List comprehension is a concise way to create lists in Python by combining a loop and an expression into a single line of code. It allows you to generate a new list by applying an expression to each element of an existing iterable, such as a list, tuple, or string."
   ]
  },
  {
   "cell_type": "code",
   "execution_count": 25,
   "metadata": {},
   "outputs": [
    {
     "name": "stdout",
     "output_type": "stream",
     "text": [
      "[1, 4, 9, 16, 25]\n",
      "[2, 4]\n"
     ]
    }
   ],
   "source": [
    "#  Squaring numbers using list comprehension\n",
    "numbers = [1, 2, 3, 4, 5]\n",
    "squared_numbers = [x**2 for x in numbers]\n",
    "print(squared_numbers)\n",
    "\n",
    "# Extracting even numbers using list comprehension\n",
    "numbers = [1, 2, 3, 4, 5]\n",
    "even_numbers = [x for x in numbers if x % 2 == 0]\n",
    "print(even_numbers)\n"
   ]
  },
  {
   "attachments": {},
   "cell_type": "markdown",
   "metadata": {},
   "source": [
    "**DECORATORS in Python**\n",
    "\n",
    "Decorators are a very powerful and useful tool in Python since it allows\n",
    "programmers to modify the behaviour of a function or class. Decorators allow us to\n",
    "wrap another function in order to extend the behaviour of the wrapped function,\n",
    "without permanently modifying it."
   ]
  },
  {
   "cell_type": "code",
   "execution_count": 26,
   "metadata": {},
   "outputs": [
    {
     "name": "stdout",
     "output_type": "stream",
     "text": [
      "Before function execution\n",
      "Welcome to Codeaza Technologies\n",
      "After function execution\n"
     ]
    }
   ],
   "source": [
    "# Decorator function\n",
    "def my_decorator(func):\n",
    "    def wrapper():\n",
    "        print(\"Before function execution\")\n",
    "        func()\n",
    "        print(\"After function execution\")\n",
    "    return wrapper\n",
    "\n",
    "# Function to be decorated\n",
    "@my_decorator\n",
    "def welcome():\n",
    "    print(\"Welcome to Codeaza Technologies\")\n",
    "\n",
    "# Using the decorated function\n",
    "welcome()\n"
   ]
  },
  {
   "attachments": {},
   "cell_type": "markdown",
   "metadata": {},
   "source": [
    "**ITERATORS in Python**\n",
    "\n",
    "In Python, iterators are objects that allow you to loop over a collection of elements or values one at a time. They provide a way to access the elements of a container sequentially without having to know the underlying implementation details."
   ]
  },
  {
   "cell_type": "code",
   "execution_count": 27,
   "metadata": {},
   "outputs": [
    {
     "name": "stdout",
     "output_type": "stream",
     "text": [
      "1\n",
      "2\n",
      "3\n"
     ]
    }
   ],
   "source": [
    "# Create an iterable object\n",
    "list = [1, 2, 3, 4, 5]\n",
    "\n",
    "# Create an iterator from the iterable\n",
    "iterator = iter(list)\n",
    "\n",
    "# Access elements using the iterator\n",
    "print(next(iterator))\n",
    "print(next(iterator)) \n",
    "print(next(iterator)) \n"
   ]
  },
  {
   "attachments": {},
   "cell_type": "markdown",
   "metadata": {},
   "source": [
    "**YIELD KEYWORD in Python**\n",
    "\n",
    "The yield statement suspends a function’s execution and sends a value back to\n",
    "the caller, but retains enough state to enable the function to resume where it left\n",
    "off. When the function resumes, it continues execution immediately after the last\n",
    "yield run.\n",
    "\n",
    "Basically, the yield keyword is used in the context of generator functions to create iterators. It allows a function to generate a series of values, one at a time, instead of computing them all at once and returning them as a list or a collection."
   ]
  },
  {
   "cell_type": "code",
   "execution_count": 28,
   "metadata": {},
   "outputs": [
    {
     "name": "stdout",
     "output_type": "stream",
     "text": [
      "1\n",
      "8\n",
      "27\n",
      "64\n"
     ]
    }
   ],
   "source": [
    "def nextcube():\n",
    "    i = 1\n",
    " \n",
    "    # An Infinite loop to generate squares\n",
    "    while True:\n",
    "        yield i*i*i\n",
    "        i += 1  # Next execution resumes\n",
    "        # from this point\n",
    " \n",
    " \n",
    "# Driver code to test above generator\n",
    "# function\n",
    "for num in nextcube():\n",
    "    if num > 100:\n",
    "        break\n",
    "    print(num)\n"
   ]
  },
  {
   "attachments": {},
   "cell_type": "markdown",
   "metadata": {},
   "source": [
    "**GENERATOR EXPRESSION in Python**\n",
    "\n",
    "Python provides a generator to create your own iterator function. A generator is a\n",
    "special type of function which does not return a single value, instead, it returns an\n",
    "iterator object with a sequence of values.\n",
    "\n",
    "They allow us to generate values on-the-fly without storing them all in memory at once. "
   ]
  },
  {
   "cell_type": "code",
   "execution_count": 29,
   "metadata": {},
   "outputs": [
    {
     "name": "stdout",
     "output_type": "stream",
     "text": [
      "0\n",
      "4\n",
      "16\n",
      "36\n",
      "64\n"
     ]
    }
   ],
   "source": [
    "# Generator expression to generate even squares of numbers\n",
    "even_squares = (x**2 for x in range(10) if x % 2 == 0)\n",
    "\n",
    "# Using the generator expression\n",
    "for num in even_squares:\n",
    "    print(num)\n"
   ]
  },
  {
   "attachments": {},
   "cell_type": "markdown",
   "metadata": {},
   "source": [
    "**PARADIGMS in Python**\n",
    "Python provides us with different styles of programming such as:\n",
    "\n",
    "Imperative Programming:\n",
    "Imperative programming is a programming paradigm where programs are structured around sequences of statements that change the program's state. It focuses on how to perform computations step by step, explicitly specifying the control flow.\n",
    "\n",
    "Object-Oriented Programming (OOP):\n",
    "Object-Oriented Programming is a programming paradigm based on the concept of objects. It organizes the code around objects that encapsulate data and behavior, promoting code reusability, modularity, and flexibility.\n",
    "\n",
    "Functional Programming:\n",
    "Functional programming is a programming paradigm that treats computation as the evaluation of mathematical functions. It emphasizes immutability, pure functions, and avoids changing state or mutable data.\n",
    "\n",
    "Aspect-Oriented Programming (AOP):\n",
    "Aspect-Oriented Programming is a programming paradigm that aims to modularize cross-cutting concerns. It separates concerns like logging, security, or caching from the main business logic, allowing them to be applied uniformly across different parts of the program."
   ]
  },
  {
   "cell_type": "code",
   "execution_count": 30,
   "metadata": {},
   "outputs": [
    {
     "name": "stdout",
     "output_type": "stream",
     "text": [
      "15\n",
      "15\n",
      "15\n",
      "Executing greet\n",
      "Hello, Hammad Khan!\n"
     ]
    }
   ],
   "source": [
    "# Imperative programming example\n",
    "def calculate_sum(numbers):\n",
    "    sum = 0\n",
    "    for num in numbers:\n",
    "        sum += num\n",
    "    return sum\n",
    "\n",
    "numbers_list = [1, 2, 3, 4, 5]\n",
    "result = calculate_sum(numbers_list)\n",
    "print(result)  # Output: 15\n",
    "\n",
    "\n",
    "# Object-Oriented Programming (OOP) example\n",
    "class Rectangle:\n",
    "    def __init__(self, length, width):\n",
    "        self.length = length\n",
    "        self.width = width\n",
    "    \n",
    "    def calculate_area(self):\n",
    "        return self.length * self.width\n",
    "\n",
    "rectangle = Rectangle(5, 3)\n",
    "area = rectangle.calculate_area()\n",
    "print(area)  # Output: 15\n",
    "\n",
    "\n",
    "# Functional Programming example\n",
    "def calculate_sum(numbers):\n",
    "    return sum(numbers)\n",
    "\n",
    "numbers_list = [1, 2, 3, 4, 5]\n",
    "result = calculate_sum(numbers_list)\n",
    "print(result)  # Output: 15\n",
    "\n",
    "\n",
    "# Aspect-Oriented Programming (AOP) example using a decorator\n",
    "def log_execution(func):\n",
    "    def wrapper(*args, **kwargs):\n",
    "        print(f\"Executing {func.__name__}\")\n",
    "        return func(*args, **kwargs)\n",
    "    return wrapper\n",
    "\n",
    "@log_execution\n",
    "def greet(name):\n",
    "    print(f\"Hello, {name}!\")\n",
    "\n",
    "greet(\"Hammad Khan\")  # Output: Executing greet\\nHello, John!\n",
    "\n",
    "\n"
   ]
  }
 ],
 "metadata": {
  "kernelspec": {
   "display_name": "Python 3",
   "language": "python",
   "name": "python3"
  },
  "language_info": {
   "codemirror_mode": {
    "name": "ipython",
    "version": 3
   },
   "file_extension": ".py",
   "mimetype": "text/x-python",
   "name": "python",
   "nbconvert_exporter": "python",
   "pygments_lexer": "ipython3",
   "version": "3.10.4 (tags/v3.10.4:9d38120, Mar 23 2022, 23:13:41) [MSC v.1929 64 bit (AMD64)]"
  },
  "orig_nbformat": 4,
  "vscode": {
   "interpreter": {
    "hash": "4b6b8e34a64791b77cdbdca7c3f222efcc71ce09e6185e1d30b347e2b8482755"
   }
  }
 },
 "nbformat": 4,
 "nbformat_minor": 2
}
